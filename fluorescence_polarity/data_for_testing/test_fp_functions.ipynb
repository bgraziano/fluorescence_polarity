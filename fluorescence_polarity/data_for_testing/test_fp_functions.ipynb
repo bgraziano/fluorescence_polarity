{
 "cells": [
  {
   "cell_type": "code",
   "execution_count": null,
   "metadata": {},
   "outputs": [],
   "source": [
    "import fluorescence_polarity as fp\n",
    "import numpy as np\n",
    "import skimage as sk\n",
    "import pandas as pd\n",
    "import mpu, os\n",
    "from math import degrees, radians, pi, atan2, sin, cos\n",
    "from scipy import ndimage\n",
    "pd.options.mode.chained_assignment = None # suppress waring messages for in-place dataframe edits\n",
    "\n",
    "ipath = # fill in with the directory the test images are in\n",
    "dpath = # fill in with the directory that the csv files are in\n",
    "cell_tr = pd.read_csv((dpath + 'test_DataFrame.csv'), index_col=0)\n",
    "txy_test = pd.read_csv((dpath + 'fluor_polarity_txy_test.csv'), index_col=0)\n",
    "xy_test = pd.read_csv((dpath + 'fluor_polarity_xy_test.csv'), index_col=0)\n",
    "\n",
    "fluor = sk.io.MultiImage(ipath + 'fluor*')\n",
    "fluor = sk.io.concatenate_images(fluor)\n",
    "mask = sk.io.MultiImage(ipath + 'mask*')\n",
    "mask = sk.io.concatenate_images(mask)\n",
    "fluor1 = fluor[0,:,:]\n",
    "mask1 = mask[0,:,:]\n",
    "\n",
    "polarityscores_all = fp.fluor_polarity_txy(fluor, mask, cell_tr)\n",
    "polarityscores_single = fp.fluor_polarity_xy(fluor1, mask1)\n",
    "\n",
    "calc_txy = polarityscores_all.round(decimals=10)\n",
    "truth_txy = txy_test.round(decimals=10)\n",
    "assert np.all(calc_txy == truth_txy)\n",
    "\n",
    "calc_xy = polarityscores_single.round(decimals=10)\n",
    "truth_xy = xy_test.round(decimals=10)\n",
    "assert np.all(calc_xy == truth_xy)\n",
    "\n",
    "print('No errors found.')"
   ]
  }
 ],
 "metadata": {
  "kernelspec": {
   "display_name": "Python 3",
   "language": "python",
   "name": "python3"
  },
  "language_info": {
   "codemirror_mode": {
    "name": "ipython",
    "version": 3
   },
   "file_extension": ".py",
   "mimetype": "text/x-python",
   "name": "python",
   "nbconvert_exporter": "python",
   "pygments_lexer": "ipython3",
   "version": "3.7.4"
  }
 },
 "nbformat": 4,
 "nbformat_minor": 4
}
